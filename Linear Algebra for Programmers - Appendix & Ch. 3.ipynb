{
 "cells": [
  {
   "cell_type": "code",
   "execution_count": 1,
   "metadata": {
    "collapsed": false
   },
   "outputs": [],
   "source": [
    "import tikzmagic\n",
    "import numpy as np"
   ]
  },
  {
   "cell_type": "markdown",
   "metadata": {},
   "source": [
    "# 부록\n",
    "\n",
    "## 내적과 대칭행렬, 그리고 직교행렬\n",
    "\n",
    "화살표의 개념으로 벡터를 이해한다고 해도, 거기에 좌표계(눈금)의 개념이 없으면 길이나 각도의 개념을 정의할 수 없음. 좌표계 속에서야 스칼라값 형태의 길이를 만들어낼 수 있는 것. 이 책에서는\n",
    "\n",
    "$$ \\Vert \\vec{x} \\Vert $$\n",
    "\n",
    "다음과 같은 형태로 벡터 $$ \\vec{x} $$의 길이를 표현.\n",
    "\n",
    "이를 정의하기 위해서는 몇 가지 가정이 필요.\n",
    "$$ \\Vert \\vec{x} \\Vert \\ge 0 $$\n",
    "$$ \\Vert \\vec{x} \\Vert = 0 iff \\vec{x} = \\vec{o}  $$\n",
    "수 c에 대해서\n",
    "$$ \\Vert c\\vec{x} \\Vert = c\\Vert \\vec{x}\\Vert $$\n",
    "\n",
    "## 직교의 개념\n",
    "\n",
    "이와 같은 가정 아래서 직교를 정의한다면 어떻게 될까? \n",
    "\n",
    "$$ \\Vert \\vec{x} + \\vec{y}  \\Vert^2 =  \\Vert \\vec{x} \\Vert^2 + \\Vert \\vec{y} \\Vert^2 $$\n",
    "\n",
    "이 성립할 때 두 벡터가 직교한다고 할 수 있음. 자세한 설명과 성질은 책 참조.\n",
    "\n",
    "## 내적\n",
    "\n",
    "직교하지 않는 경우 \n",
    "$ \\Vert \\vec{x} + \\vec{y}  \\Vert^2 \\ne  \\Vert \\vec{x} \\Vert^2 + \\Vert \\vec{y} \\Vert^2 $\n",
    "가 되어버리는데, 얼마나 다른지에 주목해 보자. 양변의 차이에 대한 함수로 이를 바꿔 쓰면\n",
    "\n",
    "$$ F(\\vec{x}, \\vec{y})=\\Vert \\vec{x} + \\vec{y}  \\Vert^2 -  \\Vert \\vec{x} \\Vert^2 + \\Vert \\vec{y} \\Vert^2 $$\n",
    "\n",
    "가 되며, 직교하는 경우 이는 0이 된다. \n",
    "\n",
    "$ \\Vert \\vec{x} \\Vert^2 = F(\\vec{x}, \\vec{y})/2 $ 와 같은 형태로 나타낼수도 있음. 조금 더 편하게 나타내기 위해서 1/2를 곱하고, 전용 기호로 나타내면,\n",
    "\n",
    "$$ \\vec{x} \\cdot \\vec{y} = 1/2(\\Vert \\vec{x} + \\vec{y} \\Vert^2 - \\Vert \\vec{x} \\Vert^2 - \\Vert \\vec{y} \\Vert^2) $$\n",
    "\n",
    "다음과 같은 형태로 정리할 수 있으며, 가운데의 $\\cdot$ 기호를 내적이라 정의한다. 내적이 주어진, 즉 위와 412-414에서 서술된 내적의 성질을 만족하는 선형공간을 내적공간이라 부른다.\n",
    "\n",
    "## 정규직교기저\n",
    "\n",
    "내적과 직교의 개념을 통해서 내적에 부합하는 좋은 성질의 기저를 정의할 수 있게 됨. \n",
    "\n",
    "## 전치행렬\n",
    "\n",
    "전치행렬 역시 이를 기반으로 정의 가능.\n",
    "\n",
    "$$ \\vec{x} \\cdot A(\\vec{y}) = A(\\vec{x})\\cdot\\vec{y} $$\n",
    "\n",
    "가 성립하는 사상인 것."
   ]
  },
  {
   "cell_type": "markdown",
   "metadata": {
    "collapsed": true
   },
   "source": [
    "# Ch. 3 LU분해를 위한 컴퓨터 계산\n",
    "\n",
    "## LU분해란?\n",
    "\n",
    "컴퓨터로 행렬 계산을 할 때 사용하는 기본적인 알고리즘 중 하나. 행렬이 있을 때, 좌하단 삼각형(L)과 우상단 삼각형(U)의 곱으로 이를 분해해서 계산하기 편하게 만들어주는 것. 실제로는 L에 해당하는 좌하단 삼각형에서 경계면의 대각 성분을 1로 만드는게 핵심. \n",
    "\n",
    "이렇게 분해할 경우 행렬식을 구하는 과정에서 계산량이 적어짐. "
   ]
  },
  {
   "cell_type": "markdown",
   "metadata": {},
   "source": [
    "예제:\n",
    "\n",
    "예를 들어서 \n",
    "\n",
    "$$x_1 + x_2 + x_3 = 6$$\n",
    "$$2x_1 + 3x_2 + 4x_3 = 20$$\n",
    "$$3x_1 + 4x_2 + 6x_3 = 29$$\n",
    "\n",
    "$$\n",
    "\\begin{bmatrix} \n",
    "1 & 1 & 1 \\\\\n",
    "2 & 3 & 4 \\\\\n",
    "3 & 4 & 6 \\\\\n",
    "\\end{bmatrix}\n",
    "\\begin{bmatrix} \n",
    "x_1 \\\\\n",
    "x_2 \\\\\n",
    "x_3 \\\\\n",
    "\\end{bmatrix} =\n",
    "\\begin{bmatrix} \n",
    "6 \\\\\n",
    "20 \\\\\n",
    "29 \\\\\n",
    "\\end{bmatrix}\n",
    "$$\n",
    "\n",
    "이는 위와 같이 표현할 수 있다.\n",
    "여기서 A를 LU분해해 본다면?"
   ]
  },
  {
   "cell_type": "code",
   "execution_count": 25,
   "metadata": {
    "collapsed": false
   },
   "outputs": [],
   "source": [
    "a = np.array([[1, 1, 1], [2, 3, 4], [3, 4, 6]])\n",
    "b = np.array([[6], [20], [29]])"
   ]
  },
  {
   "cell_type": "code",
   "execution_count": 40,
   "metadata": {
    "collapsed": false
   },
   "outputs": [
    {
     "data": {
      "text/plain": [
       "array([[ 1.,  1.,  1.],\n",
       "       [ 0.,  1.,  2.],\n",
       "       [ 3.,  4.,  6.]])"
      ]
     },
     "execution_count": 40,
     "metadata": {},
     "output_type": "execute_result"
    }
   ],
   "source": [
    "np.dot(np.linalg.inv(np.array([[1, 0, 0], [2, 1, 0], [0, 0, 1]])),\n",
    "       a)"
   ]
  },
  {
   "cell_type": "code",
   "execution_count": 41,
   "metadata": {
    "collapsed": false
   },
   "outputs": [
    {
     "data": {
      "text/plain": [
       "array([[ 1.,  1.,  1.],\n",
       "       [ 0.,  1.,  2.],\n",
       "       [ 0.,  1.,  3.]])"
      ]
     },
     "execution_count": 41,
     "metadata": {},
     "output_type": "execute_result"
    }
   ],
   "source": [
    "np.dot(np.linalg.inv(np.array([[1, 0, 0], [2, 1, 0], [3, 0, 1]])),\n",
    "       a)"
   ]
  },
  {
   "cell_type": "code",
   "execution_count": 49,
   "metadata": {
    "collapsed": false
   },
   "outputs": [
    {
     "data": {
      "text/plain": [
       "array([[ 1.,  1.,  1.],\n",
       "       [ 0.,  1.,  2.],\n",
       "       [ 0.,  0.,  1.]])"
      ]
     },
     "execution_count": 49,
     "metadata": {},
     "output_type": "execute_result"
    }
   ],
   "source": [
    "u = np.dot(np.linalg.inv(np.array([[1, 0, 0], [2, 1, 0], [3, 1, 1]])),\n",
    "       a)\n",
    "u"
   ]
  },
  {
   "cell_type": "code",
   "execution_count": 50,
   "metadata": {
    "collapsed": false
   },
   "outputs": [
    {
     "data": {
      "text/plain": [
       "array([[1, 0, 0],\n",
       "       [2, 1, 0],\n",
       "       [3, 1, 1]])"
      ]
     },
     "execution_count": 50,
     "metadata": {},
     "output_type": "execute_result"
    }
   ],
   "source": [
    "l = np.array([[1, 0, 0], [2, 1, 0], [3, 1, 1]])\n",
    "l"
   ]
  },
  {
   "cell_type": "code",
   "execution_count": 51,
   "metadata": {
    "collapsed": false
   },
   "outputs": [
    {
     "data": {
      "text/plain": [
       "array([[ 1.,  1.,  1.],\n",
       "       [ 2.,  3.,  4.],\n",
       "       [ 3.,  4.,  6.]])"
      ]
     },
     "execution_count": 51,
     "metadata": {},
     "output_type": "execute_result"
    }
   ],
   "source": [
    "np.dot(l, u)"
   ]
  },
  {
   "cell_type": "markdown",
   "metadata": {},
   "source": [
    "## LU분해로 행렬식 구하기\n",
    "\n",
    "$$ det A = det(LU) =detL detU $$"
   ]
  },
  {
   "cell_type": "code",
   "execution_count": 56,
   "metadata": {
    "collapsed": false
   },
   "outputs": [
    {
     "data": {
      "text/plain": [
       "1.0"
      ]
     },
     "execution_count": 56,
     "metadata": {},
     "output_type": "execute_result"
    }
   ],
   "source": [
    "np.linalg.det(l)"
   ]
  },
  {
   "cell_type": "code",
   "execution_count": 58,
   "metadata": {
    "collapsed": false,
    "scrolled": true
   },
   "outputs": [
    {
     "data": {
      "text/plain": [
       "array([[ 1.,  1.,  1.],\n",
       "       [ 0.,  1.,  2.],\n",
       "       [ 0.,  0.,  1.]])"
      ]
     },
     "execution_count": 58,
     "metadata": {},
     "output_type": "execute_result"
    }
   ],
   "source": [
    "u"
   ]
  },
  {
   "cell_type": "code",
   "execution_count": 60,
   "metadata": {
    "collapsed": false
   },
   "outputs": [
    {
     "data": {
      "text/plain": [
       "1.0000000000000004"
      ]
     },
     "execution_count": 60,
     "metadata": {},
     "output_type": "execute_result"
    }
   ],
   "source": [
    "np.linalg.det(a)"
   ]
  },
  {
   "cell_type": "markdown",
   "metadata": {},
   "source": [
    "## LU분해로 연립방정식 풀기\n",
    "\n",
    "위의 예제를 가져와서 그대로 풀어보자면,\n",
    "\n",
    "$$ A\\cdot x = LU\\cdot x = b $$\n",
    "$$ L = \\begin{bmatrix} \n",
    "1 & 0 & 0 \\\\\n",
    "2 & 1 & 0 \\\\\n",
    "3 & 1 & 1 \\\\\n",
    "\\end{bmatrix} $$\n",
    "\n",
    "## LU분해로 역행렬 구하는 것도 용이\n",
    "\n",
    "\n",
    "위의 예제 A에 대해 $AX = I$라고 하면 위에서 구했던 형태와 거의 흡사한 형태의 연산이 됨. 한번 A를 LU분해해두면 역행렬 계산에도 그대로 응용 가능.\n",
    "\n",
    "## 예외가 발생한 경우\n",
    "\n",
    "### PLU 분해\n",
    "\n",
    "PLU 분해라고 불리는 테크닉. 앞에서도 피봇팅이라고 해서 다룬 바 있음.\n",
    "행렬식 및 연립방정식 구하는 방법도 동일.\n",
    "\n",
    "### 그것도 안 될 때\n",
    "\n",
    "열의 교체까지 해가면서 풀어볼수도 있지만 그냥 행렬식이 아니거나 성질이 나쁜 경우라 보면 됨."
   ]
  },
  {
   "cell_type": "markdown",
   "metadata": {},
   "source": []
  }
 ],
 "metadata": {
  "kernelspec": {
   "display_name": "Python 3",
   "language": "python",
   "name": "python3"
  },
  "language_info": {
   "codemirror_mode": {
    "name": "ipython",
    "version": 3
   },
   "file_extension": ".py",
   "mimetype": "text/x-python",
   "name": "python",
   "nbconvert_exporter": "python",
   "pygments_lexer": "ipython3",
   "version": "3.6.0"
  }
 },
 "nbformat": 4,
 "nbformat_minor": 2
}
